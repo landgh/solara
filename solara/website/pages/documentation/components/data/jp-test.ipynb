{
 "cells": [
  {
   "cell_type": "code",
   "execution_count": null,
   "metadata": {},
   "outputs": [],
   "source": [
    "import pandas as pd\n",
    "import numpy as np\n",
    "from pathlib import Path\n",
    "import solara\n",
    "\n",
    "ROOT = Path(solara.__file__).parent / \"website\" / \"pages\" / \"docs\" / \"content\" / \"04-tutorial\"\n",
    "path = ROOT / Path(\"SF_crime_sample.csv.gz\")\n",
    "url = \"https://raw.githubusercontent.com/widgetti/solara/master/solara/website/pages/docs/content/04-tutorial/SF_crime_sample.csv\"\n",
    "\n",
    "if path.exists():\n",
    "    df_crime = pd.read_csv(path)\n",
    "else:\n",
    "    df_crime = pd.read_csv(url)\n",
    "\n",
    "df_crime"
   ]
  },
  {
   "cell_type": "code",
   "execution_count": 11,
   "metadata": {},
   "outputs": [
    {
     "data": {
      "application/vnd.jupyter.widget-view+json": {
       "model_id": "f880be3fe4cc4e30964e07affc71c58d",
       "version_major": 2,
       "version_minor": 0
      },
      "text/html": [
       "Cannot show widget. You probably want to rerun the code cell above (<i>Click in the code cell, and press Shift+Enter <kbd>⇧</kbd>+<kbd>↩</kbd></i>)."
      ],
      "text/plain": [
       "Cannot show ipywidgets in text"
      ]
     },
     "metadata": {},
     "output_type": "display_data"
    }
   ],
   "source": [
    "import draw_line\n",
    "\n",
    "draw_line.Page()"
   ]
  },
  {
   "cell_type": "code",
   "execution_count": 9,
   "metadata": {},
   "outputs": [
    {
     "data": {
      "application/vnd.jupyter.widget-view+json": {
       "model_id": "70752747616d4ea2b15ddad71aac6947",
       "version_major": 2,
       "version_minor": 0
      },
      "text/html": [
       "Cannot show widget. You probably want to rerun the code cell above (<i>Click in the code cell, and press Shift+Enter <kbd>⇧</kbd>+<kbd>↩</kbd></i>)."
      ],
      "text/plain": [
       "Cannot show ipywidgets in text"
      ]
     },
     "metadata": {},
     "output_type": "display_data"
    }
   ],
   "source": [
    "import pandas as pd\n",
    "import solara\n",
    "import plotly.express as px\n",
    "\n",
    "def get_data():\n",
    "    df = pd.DataFrame({'x': range(10), 'y': [i*2 for i in range(10)]})\n",
    "    return df\n",
    "\n",
    "@solara.component\n",
    "def draw():\n",
    "    fig = px.line(get_data(), x = 'x', y = 'y', title='simple line chart', labels={'x': 'x-axis', 'y': 'y-axis'})\n",
    "    solara.FigurePlotly(fig)\n",
    "\n",
    "draw()"
   ]
  },
  {
   "cell_type": "code",
   "execution_count": null,
   "metadata": {},
   "outputs": [],
   "source": [
    "from typing import Callable, Dict, List, Optional, Tuple, Union, cast\n",
    "\n",
    "\n",
    "def foo(x: ...):\n",
    "    return x\n",
    "\n",
    "def foo2(x=None):\n",
    "    return x\n",
    "\n",
    "# if None is not provided, foo3 needs to be called foo3(None) if no arg is provided. Else call foo3()\n",
    "def foo3(x: Optional[str]=None):\n",
    "    if x:\n",
    "        print(f\"foo3 called with {x}\")\n",
    "    else:\n",
    "        print(f\"foo3 called with no param\")\n",
    "\n",
    "# if Optional is not used\n",
    "def foo4(x: str=None):\n",
    "    if x:\n",
    "        print(f\"foo4 called with {x}\")\n",
    "    else:\n",
    "        print(f\"foo4 called with no param\")\n",
    "\n",
    "print(foo3())    \n",
    "print(foo4(None))    \n",
    "print(foo4())   \n",
    "print(foo(2))\n",
    "print(foo2(2))"
   ]
  },
  {
   "cell_type": "code",
   "execution_count": 11,
   "metadata": {},
   "outputs": [
    {
     "name": "stdout",
     "output_type": "stream",
     "text": [
      "Event is set!\n"
     ]
    }
   ],
   "source": [
    "from typing import Callable, TypeVar\n",
    "import threading\n",
    "\n",
    "T = TypeVar('T')  # Declare a generic type variable\n",
    "\n",
    "def process_event(callback: Callable[[threading.Event], T]) -> T:\n",
    "    event = threading.Event()\n",
    "    event.set()  # Simulate triggering the event\n",
    "    return callback(event)  # Call the function with the event\n",
    "\n",
    "def event_handler(event: threading.Event) -> str:\n",
    "    if event.is_set():\n",
    "        return \"Event is set!\"\n",
    "    return \"Event is not set.\"\n",
    "\n",
    "result = process_event(event_handler)\n",
    "print(result)  # Output: Event is set!\n"
   ]
  },
  {
   "cell_type": "code",
   "execution_count": 2,
   "metadata": {},
   "outputs": [
    {
     "name": "stdout",
     "output_type": "stream",
     "text": [
      "before ....\n",
      "before ....\n",
      "test method called with xx\n",
      "after ....\n",
      "after ....\n"
     ]
    },
    {
     "data": {
      "text/plain": [
       "'returned from __call__ returned from __call__ xx'"
      ]
     },
     "execution_count": 2,
     "metadata": {},
     "output_type": "execute_result"
    }
   ],
   "source": [
    "class MyDecorator:\n",
    "    def __init__(self, func):\n",
    "        self.func = func\n",
    "\n",
    "    def __call__(self, *args, **kwargs):\n",
    "        print(f\"before ....\")\n",
    "        result = self.func(*args, **kwargs)\n",
    "        print(f\"after ....\")\n",
    "        return f\"returned from __call__ {result}\"\n",
    "\n",
    "@MyDecorator    \n",
    "def test(name):\n",
    "    print(f\"test method called with {name}\")\n",
    "    return name\n",
    "\n",
    "#test(\"my xx\")\n",
    "d = MyDecorator(test)\n",
    "d(\"xx\")"
   ]
  },
  {
   "cell_type": "code",
   "execution_count": 17,
   "metadata": {},
   "outputs": [
    {
     "name": "stdout",
     "output_type": "stream",
     "text": [
      "Before the function call\n",
      "Hello, Alice!\n",
      "After the function call\n"
     ]
    }
   ],
   "source": [
    "class MyDecorator:\n",
    "    def __init__(self, func):\n",
    "        self.func = func\n",
    "\n",
    "    def __call__(self, *args, **kwargs):\n",
    "        print(\"Before the function call\")\n",
    "        result = self.func(*args, **kwargs)\n",
    "        print(\"After the function call\")\n",
    "        return result\n",
    "\n",
    "@MyDecorator\n",
    "def greet(name):\n",
    "    print(f\"Hello, {name}!\")\n",
    "\n",
    "greet(\"Alice\")"
   ]
  },
  {
   "cell_type": "code",
   "execution_count": null,
   "metadata": {},
   "outputs": [
    {
     "name": "stdout",
     "output_type": "stream",
     "text": [
      "before ....\n",
      "before ....\n",
      "test method called with xx\n",
      "after ....\n",
      "after ....\n"
     ]
    },
    {
     "data": {
      "text/plain": [
       "'returned from __call__ returned from __call__ xx'"
      ]
     },
     "metadata": {},
     "output_type": "display_data"
    }
   ],
   "source": [
    "class MyDecorator:\n",
    "    def __init__(self, func):\n",
    "        self.func = func\n",
    "\n",
    "    def __call__(self, *args, **kwargs):\n",
    "        print(f\"before ....\")\n",
    "        result = self.func(*args, **kwargs)\n",
    "        print(f\"after ....\")\n",
    "        return f\"returned from __call__ {result}\"\n",
    "\n",
    "@MyDecorator    \n",
    "def test(name):\n",
    "    print(f\"test method called with {name}\")\n",
    "    return name\n",
    "\n",
    "#test(\"my xx\")\n",
    "d = MyDecorator(test)\n",
    "d(\"xx\")"
   ]
  },
  {
   "cell_type": "markdown",
   "metadata": {},
   "source": [
    "# state pattern"
   ]
  },
  {
   "cell_type": "code",
   "execution_count": null,
   "metadata": {},
   "outputs": [],
   "source": [
    "class Node:\n",
    "    def __init__(self, tag_name, parent=None):\n",
    "        self.parent = parent\n",
    "        self.tag_name = tag_name\n",
    "        self.children = []\n",
    "        self.text = \"\"\n",
    "\n",
    "    def __str__(self):\n",
    "        if self.text:\n",
    "            return self.tag_name + \": \" + self.text\n",
    "        else:\n",
    "            return self.tag_name\n",
    "\n",
    "class Parser:\n",
    "    def __init__(self, parse_string):\n",
    "        self.parse_string = parse_string\n",
    "        self.root = None\n",
    "        self.current_node = None\n",
    "        self.state = FirstTag()\n",
    "    \n",
    "    def process(self, remaining_string):\n",
    "        remaining = self.state.process(remaining_string, self)\n",
    "        if remaining:\n",
    "            self.process(remaining)\n",
    "   \n",
    "    def start(self):\n",
    "        self.process(self.parse_string)\n",
    "\n",
    "class FirstTag:\n",
    "    def process(self, remaining_string, parser):\n",
    "        i_start_tag = remaining_string.find(\"<\")\n",
    "        i_end_tag = remaining_string.find(\">\")\n",
    "        tag_name = remaining_string[i_start_tag + 1 : i_end_tag]\n",
    "        root = Node(tag_name)\n",
    "        parser.root = parser.current_node = root\n",
    "        parser.state = ChildNode()\n",
    "        return remaining_string[i_end_tag + 1 :]\n",
    "    \n",
    "class ChildNode:\n",
    "    def process(self, remaining_string, parser):\n",
    "        stripped = remaining_string.strip()\n",
    "\n",
    "        if stripped.startswith(\"</\"):\n",
    "            parser.state = CloseTag()\n",
    "        elif stripped.startswith(\"<\"):\n",
    "            parser.state = OpenTag()\n",
    "        else:\n",
    "            parser.state = TextNode()\n",
    "        \n",
    "        return stripped\n",
    "\n",
    "class OpenTag:\n",
    "    def process(self, remaining_string, parser):\n",
    "        i_start_tag = remaining_string.find(\"<\")\n",
    "        i_end_tag = remaining_string.find(\">\")\n",
    "        tag_name = remaining_string[i_start_tag + 1 : i_end_tag]\n",
    "        node = Node(tag_name, parser.current_node)\n",
    "        parser.current_node.children.append(node)\n",
    "        parser.current_node = node\n",
    "        parser.state = ChildNode()\n",
    "\n",
    "        return remaining_string[i_end_tag + 1 :]\n",
    "    \n",
    "class CloseTag:\n",
    "    def process(self, remaining_string, parser):\n",
    "        i_start_tag = remaining_string.find(\"<\")\n",
    "        i_end_tag = remaining_string.find(\">\")\n",
    "\n",
    "        assert remaining_string[i_start_tag + 1] == \"/\"\n",
    "        tag_name = remaining_string[i_start_tag + 2 : i_end_tag]\n",
    "        assert tag_name == parser.current_node.tag_name\n",
    "\n",
    "        parser.current_node = parser.current_node.parent\n",
    "        parser.state = ChildNode()\n",
    "\n",
    "        return remaining_string[i_end_tag + 1 :].strip()\n",
    "    \n",
    "class TextNode:\n",
    "    def process(self, remaining_string, parser):\n",
    "        i_start_tag = remaining_string.find('<')\n",
    "        text = remaining_string[:i_start_tag]\n",
    "        parser.current_node.text = text\n",
    "        parser.state = ChildNode()\n",
    "\n",
    "        return remaining_string[i_start_tag:]\n",
    "\n",
    "def parseXml(content: str):\n",
    "    p = Parser(contents)\n",
    "    p.start()\n",
    "    nodes = [p.root]\n",
    "\n",
    "    while nodes:\n",
    "        node = nodes.pop(0)\n",
    "        print(node)\n",
    "        nodes = node.children + nodes\n",
    "\n",
    "''' \n",
    "if __name__ == \"__main__\":\n",
    "    import sys\n",
    "    with open(sys.argv[1]) as file:\n",
    "        contents = file.read()\n",
    "        parseXml(contents)\n",
    "''' \n",
    "\n",
    "contents = \"\"\" \n",
    "            <book>\n",
    "                <author>Dusty Phillips</author>\n",
    "                <publisher>Packt Publishing</publisher>\n",
    "                <title>Python 3 Object Oriented Programming</title>\n",
    "                <content>\n",
    "                    <chapter>\n",
    "                        <number>1</number>\n",
    "                        <title>Object Oriented Design</title>\n",
    "                    </chapter>\n",
    "                    <chapter>\n",
    "                        <number>2</number>\n",
    "                        <title>Objects In Python</title>\n",
    "                    </chapter>\n",
    "                </content>\n",
    "            </book>\n",
    "        \"\"\"\n",
    "\n",
    "parseXml(contents)"
   ]
  },
  {
   "cell_type": "code",
   "execution_count": null,
   "metadata": {},
   "outputs": [],
   "source": [
    "import sqlite3\n",
    "# Create a connection to the in-memory database\n",
    "conn = sqlite3.connect(\":memory:\")\n",
    "\n",
    "\n",
    "# Create a cursor object\n",
    "cursor = conn.cursor()\n",
    "\n",
    "# Create a table\n",
    "cursor.execute('''CREATE TABLE IF NOT EXISTS people (id INTEGER PRIMARY KEY, name TEXT)''')\n",
    "\n",
    "# Insert some data\n",
    "cursor.execute('''INSERT INTO people (name) VALUES (?)''', (\"Alice\",))\n",
    "cursor.execute('''INSERT INTO people (name) VALUES (?)''', (\"Bob\",))\n",
    "\n",
    "# Commit the changes\n",
    "conn.commit()"
   ]
  }
 ],
 "metadata": {
  "kernelspec": {
   "display_name": "venv2",
   "language": "python",
   "name": "python3"
  },
  "language_info": {
   "codemirror_mode": {
    "name": "ipython",
    "version": 3
   },
   "file_extension": ".py",
   "mimetype": "text/x-python",
   "name": "python",
   "nbconvert_exporter": "python",
   "pygments_lexer": "ipython3",
   "version": "3.13.0"
  }
 },
 "nbformat": 4,
 "nbformat_minor": 2
}
